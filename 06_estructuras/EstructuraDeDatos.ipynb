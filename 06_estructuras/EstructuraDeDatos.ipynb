{
  "cells": [
    {
      "cell_type": "markdown",
      "metadata": {
        "id": "AySKMv0sVOYv"
      },
      "source": [
        "# Estructura de datos\n",
        "\n",
        "- Lista\n",
        "- Diccionario\n",
        "- Tupla\n",
        "- Set"
      ]
    },
    {
      "cell_type": "markdown",
      "metadata": {
        "id": "e2ZESapCVqGw"
      },
      "source": [
        "## Lista"
      ]
    },
    {
      "cell_type": "code",
      "execution_count": 1,
      "metadata": {
        "id": "d0lInMKkUmzx"
      },
      "outputs": [],
      "source": [
        "lista = [] # lista vacia\n",
        "lista = list()\n",
        "lista = ['Javier']"
      ]
    },
    {
      "cell_type": "markdown",
      "metadata": {
        "id": "nABb55cZWGJs"
      },
      "source": [
        "Agregar elementos a la lista"
      ]
    },
    {
      "cell_type": "code",
      "execution_count": 2,
      "metadata": {
        "colab": {
          "base_uri": "https://localhost:8080/"
        },
        "id": "D9BsAjxDWIcW",
        "outputId": "e7bf8840-7a02-440d-b5db-b09b346490ff"
      },
      "outputs": [
        {
          "name": "stdout",
          "output_type": "stream",
          "text": [
            "['Javier', 'Hola', 23, False, 6.6]\n"
          ]
        }
      ],
      "source": [
        "lista.append('Hola')\n",
        "lista.append(23)\n",
        "lista.append(False)\n",
        "lista.append(6.6)\n",
        "print(lista)"
      ]
    },
    {
      "cell_type": "markdown",
      "metadata": {
        "id": "6vs_feTKYy49"
      },
      "source": [
        "### Accediendo a la lista"
      ]
    },
    {
      "cell_type": "markdown",
      "metadata": {
        "id": "_QlzK5ATXkDM"
      },
      "source": [
        "Accediendo a un elemento"
      ]
    },
    {
      "cell_type": "code",
      "execution_count": 3,
      "metadata": {
        "colab": {
          "base_uri": "https://localhost:8080/"
        },
        "id": "WlTkcjycXjII",
        "outputId": "b7e85a98-c68a-4e2d-9849-2c514bdaa579"
      },
      "outputs": [
        {
          "name": "stdout",
          "output_type": "stream",
          "text": [
            "Hola\n",
            "6.6\n"
          ]
        }
      ],
      "source": [
        "print(lista[1])\n",
        "print(lista[-1])"
      ]
    },
    {
      "cell_type": "markdown",
      "metadata": {
        "id": "IJNjHSZPYpxb"
      },
      "source": [
        "Acceder a varios elementos al mismo tiempo\n",
        "\n",
        "Rangos [indice_inicio,indice_final)\n",
        "\n",
        "lista[indice_inicio:indice_final]"
      ]
    },
    {
      "cell_type": "code",
      "execution_count": 4,
      "metadata": {
        "colab": {
          "base_uri": "https://localhost:8080/"
        },
        "id": "HOrzl_gzYsVW",
        "outputId": "a5641f19-13be-43a2-803f-1aeec3e048ab"
      },
      "outputs": [
        {
          "name": "stdout",
          "output_type": "stream",
          "text": [
            "['Hola', 23, False]\n"
          ]
        }
      ],
      "source": [
        "print(lista[1:4])"
      ]
    },
    {
      "cell_type": "markdown",
      "metadata": {
        "id": "uhs1IQJrZjQ3"
      },
      "source": [
        "### Cantidad de datos"
      ]
    },
    {
      "cell_type": "code",
      "execution_count": 5,
      "metadata": {
        "colab": {
          "base_uri": "https://localhost:8080/"
        },
        "id": "wjXUf_byZl0l",
        "outputId": "32b85160-c76e-4c6b-edf0-11edd4543715"
      },
      "outputs": [
        {
          "data": {
            "text/plain": [
              "5"
            ]
          },
          "execution_count": 5,
          "metadata": {},
          "output_type": "execute_result"
        }
      ],
      "source": [
        "len(lista)"
      ]
    },
    {
      "cell_type": "markdown",
      "metadata": {
        "id": "9LtJgCldZ2O2"
      },
      "source": [
        "El rango de indices va desde: $0$ hasta $n-1$ donde $n = len(lista)$\n",
        "\n",
        "Ecuacion $m=\\frac{y_2-y_1}{x_2-x_1}$"
      ]
    },
    {
      "cell_type": "markdown",
      "metadata": {
        "id": "eKwLshf3aJuc"
      },
      "source": [
        "### Editar elemento de la lista"
      ]
    },
    {
      "cell_type": "code",
      "execution_count": 6,
      "metadata": {
        "colab": {
          "base_uri": "https://localhost:8080/"
        },
        "id": "LzLnW0caZ_MM",
        "outputId": "036dc147-fd58-445c-ae9c-63609f8b737f"
      },
      "outputs": [
        {
          "name": "stdout",
          "output_type": "stream",
          "text": [
            "['Angel', 'Hola', 23, False, 6.6]\n"
          ]
        }
      ],
      "source": [
        "lista[0] = 'Angel'\n",
        "print(lista)"
      ]
    },
    {
      "cell_type": "markdown",
      "metadata": {
        "id": "qeOQOL0walJa"
      },
      "source": [
        "### Eliminar elementos de la lista"
      ]
    },
    {
      "cell_type": "code",
      "execution_count": 7,
      "metadata": {
        "colab": {
          "base_uri": "https://localhost:8080/"
        },
        "id": "wKD-8GN8atj3",
        "outputId": "b0ee1eb8-27b2-4087-dfd7-0025097cbb47"
      },
      "outputs": [
        {
          "name": "stdout",
          "output_type": "stream",
          "text": [
            "['Angel', 'Hola', 23, False, 6.6, 'Adios', 50, True, 3.11416]\n"
          ]
        }
      ],
      "source": [
        "lista.append('Adios')\n",
        "lista.append(50)\n",
        "lista.append(True)\n",
        "lista.append(3.11416)\n",
        "print(lista)"
      ]
    },
    {
      "cell_type": "markdown",
      "metadata": {
        "id": "SltnwaCxbCtT"
      },
      "source": [
        "Remove"
      ]
    },
    {
      "cell_type": "code",
      "execution_count": 8,
      "metadata": {
        "colab": {
          "base_uri": "https://localhost:8080/"
        },
        "id": "WHA2iPzkbBTg",
        "outputId": "2cafb1e6-8a55-4b8f-eb0b-af7015742a30"
      },
      "outputs": [
        {
          "name": "stdout",
          "output_type": "stream",
          "text": [
            "['Angel', 'Hola', 23, False, 6.6, 'Adios', 50, 3.11416]\n"
          ]
        }
      ],
      "source": [
        "lista.remove(True)\n",
        "print(lista)"
      ]
    },
    {
      "cell_type": "markdown",
      "metadata": {
        "id": "OEPMtv_pbhHG"
      },
      "source": [
        "Pop"
      ]
    },
    {
      "cell_type": "code",
      "execution_count": 9,
      "metadata": {
        "colab": {
          "base_uri": "https://localhost:8080/"
        },
        "id": "yxpC_KhabjOc",
        "outputId": "7b4cecd3-06b4-45ed-f729-82d04b957406"
      },
      "outputs": [
        {
          "name": "stdout",
          "output_type": "stream",
          "text": [
            "['Angel', 'Hola', 23, False, 6.6, 'Adios', 50]\n",
            "['Angel', 'Hola', False, 6.6, 'Adios', 50]\n"
          ]
        }
      ],
      "source": [
        "lista.pop()\n",
        "print(lista)\n",
        "lista.pop(2)\n",
        "print(lista)"
      ]
    },
    {
      "cell_type": "markdown",
      "metadata": {
        "id": "Ks04ij8O52Z9"
      },
      "source": [
        "Listas de listas"
      ]
    },
    {
      "cell_type": "code",
      "execution_count": 10,
      "metadata": {
        "colab": {
          "base_uri": "https://localhost:8080/"
        },
        "id": "poFbzQ4S544G",
        "outputId": "5e83df59-ef4f-432e-da43-a32cb22a8214"
      },
      "outputs": [
        {
          "name": "stdout",
          "output_type": "stream",
          "text": [
            "[98, True, False, 'Hi']\n"
          ]
        }
      ],
      "source": [
        "lista00 = ['Hola', 5, 'adios', [98, True, False, 'Hi'], '*']\n",
        "print(lista00[3])"
      ]
    },
    {
      "cell_type": "code",
      "execution_count": 11,
      "metadata": {
        "colab": {
          "base_uri": "https://localhost:8080/"
        },
        "id": "fDwAUu9z6Z1T",
        "outputId": "f15939a0-e162-4b4f-d434-b46dabc7feb1"
      },
      "outputs": [
        {
          "name": "stdout",
          "output_type": "stream",
          "text": [
            "Hi\n"
          ]
        }
      ],
      "source": [
        "print(lista00[3][-1])"
      ]
    },
    {
      "cell_type": "markdown",
      "metadata": {
        "id": "Mdosmouj5aU-"
      },
      "source": [
        "## Diccionarios\n",
        "\n",
        "llave: valor_de_la_llave"
      ]
    },
    {
      "cell_type": "markdown",
      "metadata": {
        "id": "Zrig63--6z9T"
      },
      "source": [
        "### Declarar un diccionario"
      ]
    },
    {
      "cell_type": "code",
      "execution_count": 12,
      "metadata": {
        "id": "wExoa7nt5zUG"
      },
      "outputs": [],
      "source": [
        "# Diccionario vacio\n",
        "agenda = dict()\n",
        "agenda = {}\n",
        "agenda = {\n",
        "    'Angel': 5555555555,\n",
        "    'Saul':  7777777777,\n",
        "    'Olivia': 99999999989,\n",
        "}"
      ]
    },
    {
      "cell_type": "code",
      "execution_count": 13,
      "metadata": {
        "colab": {
          "base_uri": "https://localhost:8080/"
        },
        "id": "7ybJlV4G7GMu",
        "outputId": "5b7c82aa-ec33-47eb-ddad-3e0708ba33a9"
      },
      "outputs": [
        {
          "data": {
            "text/plain": [
              "{'Angel': 5555555555, 'Saul': 7777777777, 'Olivia': 99999999989}"
            ]
          },
          "execution_count": 13,
          "metadata": {},
          "output_type": "execute_result"
        }
      ],
      "source": [
        "agenda"
      ]
    },
    {
      "cell_type": "markdown",
      "metadata": {
        "id": "Rf1oITdv7jrh"
      },
      "source": [
        "### Accediando a un valor"
      ]
    },
    {
      "cell_type": "code",
      "execution_count": 14,
      "metadata": {
        "colab": {
          "base_uri": "https://localhost:8080/"
        },
        "id": "sDmS6nAo7f6_",
        "outputId": "04178df8-bec4-455f-d089-5b5dad505f7d"
      },
      "outputs": [
        {
          "data": {
            "text/plain": [
              "99999999989"
            ]
          },
          "execution_count": 14,
          "metadata": {},
          "output_type": "execute_result"
        }
      ],
      "source": [
        "agenda['Olivia']"
      ]
    },
    {
      "cell_type": "markdown",
      "metadata": {
        "id": "aIUcditl7vWo"
      },
      "source": [
        "### Editar un valor"
      ]
    },
    {
      "cell_type": "code",
      "execution_count": 15,
      "metadata": {
        "colab": {
          "base_uri": "https://localhost:8080/"
        },
        "id": "oVlL_P027uwj",
        "outputId": "384989c3-b3ae-4164-8b41-5a6429348985"
      },
      "outputs": [
        {
          "name": "stdout",
          "output_type": "stream",
          "text": [
            "{'Angel': 66666666666, 'Saul': 7777777777, 'Olivia': 99999999989}\n"
          ]
        }
      ],
      "source": [
        "agenda['Angel'] = 66666666666\n",
        "print(agenda)"
      ]
    },
    {
      "cell_type": "markdown",
      "metadata": {
        "id": "l_n0sNG68GrT"
      },
      "source": [
        "### Agregar valores al diccionario"
      ]
    },
    {
      "cell_type": "code",
      "execution_count": 16,
      "metadata": {
        "colab": {
          "base_uri": "https://localhost:8080/"
        },
        "id": "OzhWA6-_8F0j",
        "outputId": "1d50c6cc-4b46-4a98-83ec-58c553774a8b"
      },
      "outputs": [
        {
          "name": "stdout",
          "output_type": "stream",
          "text": [
            "{'Angel': 66666666666, 'Saul': 7777777777, 'Olivia': 99999999989, 'Pedro': 444444444444, 'Maria': [35214654168, 1374631643547], 'Zait': {'Gloria': 651351474367, 'Luis': 318436584387, 'Eric': [368463465369, 134368376373]}}\n"
          ]
        }
      ],
      "source": [
        "agenda['Pedro'] = 444444444444\n",
        "agenda['Maria'] = [35214654168, 1374631643547]\n",
        "agenda['Zait'] = {\n",
        "    'Gloria': 651351474367,\n",
        "    'Luis': 318436584387,\n",
        "    'Eric': [368463465369, 134368376373]\n",
        "}\n",
        "print(agenda)"
      ]
    },
    {
      "cell_type": "code",
      "execution_count": 17,
      "metadata": {
        "colab": {
          "base_uri": "https://localhost:8080/"
        },
        "id": "1s1DutDN85MY",
        "outputId": "598c875c-edf3-4f86-c421-05c31d6e516e"
      },
      "outputs": [
        {
          "name": "stdout",
          "output_type": "stream",
          "text": [
            "{'Gloria': 651351474367, 'Luis': 318436584387, 'Eric': [368463465369, 134368376373]}\n"
          ]
        }
      ],
      "source": [
        "print(agenda['Zait'])"
      ]
    },
    {
      "cell_type": "code",
      "execution_count": 18,
      "metadata": {
        "colab": {
          "base_uri": "https://localhost:8080/"
        },
        "id": "v-slN5QZ9M8v",
        "outputId": "3af9d99b-453e-492c-c197-39fc8a974fd4"
      },
      "outputs": [
        {
          "name": "stdout",
          "output_type": "stream",
          "text": [
            "[368463465369, 134368376373]\n"
          ]
        }
      ],
      "source": [
        "print(agenda['Zait']['Eric'])"
      ]
    },
    {
      "cell_type": "code",
      "execution_count": 19,
      "metadata": {
        "colab": {
          "base_uri": "https://localhost:8080/"
        },
        "id": "NpJ6RfX19W4h",
        "outputId": "6da48bac-221b-4ef1-c70e-9ebafd5eb247"
      },
      "outputs": [
        {
          "name": "stdout",
          "output_type": "stream",
          "text": [
            "134368376373\n"
          ]
        }
      ],
      "source": [
        "print(agenda['Zait']['Eric'][1])"
      ]
    },
    {
      "cell_type": "code",
      "execution_count": 20,
      "metadata": {
        "colab": {
          "base_uri": "https://localhost:8080/"
        },
        "id": "GLeNr-Sj9rG-",
        "outputId": "74713a31-588d-4b1e-ef17-bf9fe0c33784"
      },
      "outputs": [
        {
          "name": "stdout",
          "output_type": "stream",
          "text": [
            "134368376373\n"
          ]
        }
      ],
      "source": [
        "aux00 = agenda['Zait']\n",
        "aux01 = aux00['Eric']\n",
        "print(aux01[1])"
      ]
    },
    {
      "cell_type": "markdown",
      "metadata": {
        "id": "zqgyljnE-Lhi"
      },
      "source": [
        "## Tuplas"
      ]
    },
    {
      "cell_type": "code",
      "execution_count": 21,
      "metadata": {
        "colab": {
          "base_uri": "https://localhost:8080/"
        },
        "id": "xjeNL1Nj-NoN",
        "outputId": "7935aea3-2e44-42aa-d575-bd91ae15f713"
      },
      "outputs": [
        {
          "name": "stdout",
          "output_type": "stream",
          "text": [
            "(2, '3', True, False, True)\n"
          ]
        }
      ],
      "source": [
        "tupla = tuple()\n",
        "tupla = ()\n",
        "tupla = (2,'3',True,False,True)\n",
        "print(tupla)"
      ]
    },
    {
      "cell_type": "markdown",
      "metadata": {
        "id": "5hfFbEh-_Eke"
      },
      "source": [
        "En las tuplas no se pueden agregar valores\n",
        "Una estructura de datos no mutable (no se puede editar)"
      ]
    },
    {
      "cell_type": "markdown",
      "metadata": {
        "id": "U9lWg5Yp_Mvy"
      },
      "source": [
        "### Metodos en las tuplas"
      ]
    },
    {
      "cell_type": "code",
      "execution_count": 22,
      "metadata": {
        "colab": {
          "base_uri": "https://localhost:8080/"
        },
        "id": "wOsQ-Zxy-qRl",
        "outputId": "febff3cf-1dba-4b8d-e9e3-ef759a475fb7"
      },
      "outputs": [
        {
          "name": "stdout",
          "output_type": "stream",
          "text": [
            "2\n",
            "2\n"
          ]
        }
      ],
      "source": [
        "print(tupla.count(True))\n",
        "print(tupla.index(True))"
      ]
    },
    {
      "cell_type": "markdown",
      "metadata": {
        "id": "fSmUbVKL_0cA"
      },
      "source": [
        "### Editar tupla"
      ]
    },
    {
      "cell_type": "code",
      "execution_count": 23,
      "metadata": {
        "colab": {
          "base_uri": "https://localhost:8080/"
        },
        "id": "zC5dGDFd_zZO",
        "outputId": "b940bc9c-20bb-42a6-ec04-e653d9dd3694"
      },
      "outputs": [
        {
          "name": "stdout",
          "output_type": "stream",
          "text": [
            "(1, '3', True, False, True)\n"
          ]
        }
      ],
      "source": [
        "lt = list(tupla)\n",
        "lt[0] = 1\n",
        "tupla = tuple(lt)\n",
        "print(tupla)"
      ]
    },
    {
      "cell_type": "markdown",
      "metadata": {
        "id": "-o1xQnViAe4i"
      },
      "source": [
        "## Set"
      ]
    },
    {
      "cell_type": "code",
      "execution_count": 24,
      "metadata": {
        "id": "oblk5otEAlaa"
      },
      "outputs": [],
      "source": [
        "conjunto = set()\n",
        "conjunto = {}\n",
        "conjunto = {1,2,6,5,8,2,9,2,2}"
      ]
    },
    {
      "cell_type": "code",
      "execution_count": 25,
      "metadata": {
        "colab": {
          "base_uri": "https://localhost:8080/"
        },
        "id": "4yo1z8uUA9N9",
        "outputId": "79ca2033-9326-4f2a-cc1c-3c97a969df73"
      },
      "outputs": [
        {
          "name": "stdout",
          "output_type": "stream",
          "text": [
            "{1, 2, 5, 6, 8, 9}\n"
          ]
        }
      ],
      "source": [
        "print(conjunto)"
      ]
    },
    {
      "cell_type": "markdown",
      "metadata": {
        "id": "u8Hh_rHFBSca"
      },
      "source": [
        "### Agregar un valor"
      ]
    },
    {
      "cell_type": "code",
      "execution_count": 27,
      "metadata": {
        "colab": {
          "base_uri": "https://localhost:8080/"
        },
        "id": "9lD1okvtBbM1",
        "outputId": "fb7288f4-56b2-4cd4-f4b8-98ce1f84d050"
      },
      "outputs": [
        {
          "name": "stdout",
          "output_type": "stream",
          "text": [
            "{1, 2, 5, 6, 21, 8, 9, 10}\n"
          ]
        }
      ],
      "source": [
        "conjunto.add(10)\n",
        "conjunto.add(9)\n",
        "conjunto.add(21)\n",
        "print(conjunto)"
      ]
    }
  ],
  "metadata": {
    "colab": {
      "collapsed_sections": [],
      "name": "EstructuraDeDatos.ipynb",
      "provenance": []
    },
    "interpreter": {
      "hash": "40e7727c13113bbe219b74bcfe53f88d437205967406b4e5baf3be637641a0a9"
    },
    "kernelspec": {
      "display_name": "Python 3.9.7 64-bit",
      "name": "python3"
    },
    "language_info": {
      "codemirror_mode": {
        "name": "ipython",
        "version": 3
      },
      "file_extension": ".py",
      "mimetype": "text/x-python",
      "name": "python",
      "nbconvert_exporter": "python",
      "pygments_lexer": "ipython3",
      "version": "3.9.7"
    }
  },
  "nbformat": 4,
  "nbformat_minor": 0
}
