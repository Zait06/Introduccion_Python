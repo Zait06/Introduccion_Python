{
  "cells": [
    {
      "cell_type": "code",
      "execution_count": null,
      "metadata": {
        "collapsed": false
      },
      "outputs": [],
      "source": [
        "%matplotlib inline"
      ]
    },
    {
      "cell_type": "markdown",
      "metadata": {},
      "source": [
        "\n",
        "# Uso básico\n"
      ]
    },
    {
      "cell_type": "code",
      "execution_count": null,
      "metadata": {
        "collapsed": false
      },
      "outputs": [],
      "source": [
        "import matplotlib as mpl\n",
        "import matplotlib.pyplot as plt\n",
        "import numpy as np"
      ]
    },
    {
      "cell_type": "markdown",
      "metadata": {},
      "source": [
        "## A simple example\n",
        "\n",
        "Matplotlib graphs your data on `~.figure.Figure`\\s (e.g., windows, Jupyter\n",
        "widgets, etc.), each of which can contain one or more `~.axes.Axes`, an\n",
        "area where points can be specified in terms of x-y coordinates (or theta-r\n",
        "in a polar plot, x-y-z in a 3D plot, etc).  The simplest way of\n",
        "creating a Figure with an Axes is using `.pyplot.subplots`. We can then use\n",
        "`.Axes.plot` to draw some data on the Axes:\n",
        "\n"
      ]
    },
    {
      "cell_type": "code",
      "execution_count": null,
      "metadata": {
        "collapsed": false
      },
      "outputs": [],
      "source": [
        "fig, ax = plt.subplots()  # Create a figure containing a single axes.\n",
        "ax.plot([1, 2, 3, 4], [1, 4, 2, 3]);  # Plot some data on the axes."
      ]
    },
    {
      "cell_type": "markdown",
      "metadata": {},
      "source": [
        "\n",
        "## Partes de una figura\n",
        "\n",
        "<img src=\"https://matplotlib.org/stable/_images/anatomy.png\">"
      ]
    },
    {
      "cell_type": "code",
      "execution_count": null,
      "metadata": {
        "collapsed": false
      },
      "outputs": [],
      "source": [
        "np.random.seed(19680801)\n",
        "\n",
        "data = {'a': np.arange(50),\n",
        "        'c': np.random.randint(0, 50, 50),\n",
        "        'd': np.random.randn(50)}\n",
        "data['b'] = data['a'] + 10 * np.random.randn(50)\n",
        "data['d'] = np.abs(data['d']) * 100\n",
        "\n",
        "fig, ax = plt.subplots(figsize=(5, 2.7), layout='constrained')\n",
        "ax.scatter('a', 'b', c='c', s='d', data=data)\n",
        "ax.set_xlabel('entry a')\n",
        "ax.set_ylabel('entry b');"
      ]
    },
    {
      "cell_type": "markdown",
      "metadata": {},
      "source": [
        "\n",
        "## Programación de estilos\n",
        "\n",
        "### Orientado a objetos y estilo pyplot\n",
        "\n",
        "- Usando metodos de las funciones\n",
        "- Usando la importación plt"
      ]
    },
    {
      "cell_type": "code",
      "execution_count": null,
      "metadata": {
        "collapsed": false
      },
      "outputs": [],
      "source": [
        "x = np.linspace(0, 2, 100)  # Sample data.\n",
        "\n",
        "# Note that even in the OO-style, we use `.pyplot.figure` to create the Figure.\n",
        "fig, ax = plt.subplots(figsize=(5, 2.7), layout='constrained')\n",
        "ax.plot(x, x, label='linear')  # Plot some data on the axes.\n",
        "ax.plot(x, x**2, label='quadratic')  # Plot more data on the axes...\n",
        "ax.plot(x, x**3, label='cubic')  # ... and some more.\n",
        "ax.set_xlabel('x label')  # Add an x-label to the axes.\n",
        "ax.set_ylabel('y label')  # Add a y-label to the axes.\n",
        "ax.set_title(\"Simple Plot\")  # Add a title to the axes.\n",
        "ax.legend();  # Add a legend."
      ]
    },
    {
      "cell_type": "code",
      "execution_count": null,
      "metadata": {
        "collapsed": false
      },
      "outputs": [],
      "source": [
        "x = np.linspace(0, 2, 100)  # Sample data.\n",
        "\n",
        "plt.figure(figsize=(5, 2.7), layout='constrained')\n",
        "plt.plot(x, x, label='linear')  # Plot some data on the (implicit) axes.\n",
        "plt.plot(x, x**2, label='quadratic')  # etc.\n",
        "plt.plot(x, x**3, label='cubic')\n",
        "plt.xlabel('x label')\n",
        "plt.ylabel('y label')\n",
        "plt.title(\"Simple Plot\")\n",
        "plt.legend();"
      ]
    },
    {
      "cell_type": "markdown",
      "metadata": {},
      "source": [
        "### Haciendo una función de ayuda"
      ]
    },
    {
      "cell_type": "code",
      "execution_count": null,
      "metadata": {
        "collapsed": false
      },
      "outputs": [],
      "source": [
        "def my_plotter(ax, data1, data2, param_dict):\n",
        "    \"\"\"\n",
        "    A helper function to make a graph.\n",
        "    \"\"\"\n",
        "    out = ax.plot(data1, data2, **param_dict)\n",
        "    return out"
      ]
    },
    {
      "cell_type": "code",
      "execution_count": null,
      "metadata": {
        "collapsed": false
      },
      "outputs": [],
      "source": [
        "data1, data2, data3, data4 = np.random.randn(4, 100)  # make 4 random data sets\n",
        "fig, (ax1, ax2) = plt.subplots(1, 2, figsize=(5, 2.7))\n",
        "my_plotter(ax1, data1, data2, {'marker': 'x'})\n",
        "my_plotter(ax2, data3, data4, {'marker': 'o'});"
      ]
    },
    {
      "cell_type": "markdown",
      "metadata": {},
      "source": [
        "## Estilos en una gráfica"
      ]
    },
    {
      "cell_type": "code",
      "execution_count": null,
      "metadata": {
        "collapsed": false
      },
      "outputs": [],
      "source": [
        "fig, ax = plt.subplots(figsize=(5, 2.7))\n",
        "x = np.arange(len(data1))\n",
        "ax.plot(x, np.cumsum(data1), color='blue', linewidth=3, linestyle='--')\n",
        "l, = ax.plot(x, np.cumsum(data2), color='orange', linewidth=2)\n",
        "l.set_linestyle(':');"
      ]
    },
    {
      "cell_type": "markdown",
      "metadata": {},
      "source": [
        "### Colores\n",
        "\n"
      ]
    },
    {
      "cell_type": "code",
      "execution_count": null,
      "metadata": {
        "collapsed": false
      },
      "outputs": [],
      "source": [
        "fig, ax = plt.subplots(figsize=(5, 2.7))\n",
        "ax.scatter(data1, data2, s=50, facecolor='C0', edgecolor='k');"
      ]
    },
    {
      "cell_type": "markdown",
      "metadata": {},
      "source": [
        "### Tamaño de marcadores, ancho y estilo de lineas"
      ]
    },
    {
      "cell_type": "code",
      "execution_count": null,
      "metadata": {
        "collapsed": false
      },
      "outputs": [],
      "source": [
        "fig, ax = plt.subplots(figsize=(5, 2.7))\n",
        "ax.plot(data1, 'o', label='data1')\n",
        "ax.plot(data2, 'd', label='data2')\n",
        "ax.plot(data3, 'v', label='data3')\n",
        "ax.plot(data4, 's', label='data4')\n",
        "ax.legend();"
      ]
    },
    {
      "cell_type": "markdown",
      "metadata": {},
      "source": [
        "## Etiquetado de gráficas\n",
        "\n",
        "### Etiquetas de ejes y texto"
      ]
    },
    {
      "cell_type": "code",
      "execution_count": null,
      "metadata": {
        "collapsed": false
      },
      "outputs": [],
      "source": [
        "mu, sigma = 115, 15\n",
        "x = mu + sigma * np.random.randn(10000)\n",
        "fig, ax = plt.subplots(figsize=(5, 2.7), layout='constrained')\n",
        "\n",
        "n, bins, patches = ax.hist(x, 50, density=1, facecolor='C0', alpha=0.75)\n",
        "\n",
        "ax.set_xlabel('Length [cm]')\n",
        "ax.set_ylabel('Probability')\n",
        "ax.set_title('Aardvark lengths\\n (not really)')\n",
        "ax.text(75, .025, r'$\\mu=115,\\ \\sigma=15$')\n",
        "ax.axis([55, 175, 0, 0.03])\n",
        "ax.grid(True);"
      ]
    },
    {
      "cell_type": "markdown",
      "metadata": {},
      "source": [
        "### Espresiones matemáticas en texto\n",
        "    ax.set_title(r'$\\sigma_i=15$')  \n",
        "\n",
        "### Anotaciones en una gráfica"
      ]
    },
    {
      "cell_type": "code",
      "execution_count": null,
      "metadata": {
        "collapsed": false
      },
      "outputs": [],
      "source": [
        "fig, ax = plt.subplots(figsize=(5, 2.7))\n",
        "\n",
        "t = np.arange(0.0, 5.0, 0.01)\n",
        "s = np.cos(2 * np.pi * t)\n",
        "line, = ax.plot(t, s, lw=2)\n",
        "\n",
        "ax.annotate('local max', xy=(2, 1), xytext=(3, 1.5),\n",
        "            arrowprops=dict(facecolor='black', shrink=0.05))\n",
        "\n",
        "ax.set_ylim(-2, 2);"
      ]
    },
    {
      "cell_type": "markdown",
      "metadata": {},
      "source": [
        "### Leyendas"
      ]
    },
    {
      "cell_type": "code",
      "execution_count": null,
      "metadata": {
        "collapsed": false
      },
      "outputs": [],
      "source": [
        "fig, ax = plt.subplots(figsize=(5, 2.7))\n",
        "ax.plot(np.arange(len(data1)), data1, label='data1')\n",
        "ax.plot(np.arange(len(data2)), data2, label='data2')\n",
        "ax.plot(np.arange(len(data3)), data3, 'd', label='data3')\n",
        "ax.legend();"
      ]
    },
    {
      "cell_type": "markdown",
      "metadata": {},
      "source": [
        "## Escala y marcador de ejes\n",
        "\n",
        "### Scales"
      ]
    },
    {
      "cell_type": "code",
      "execution_count": null,
      "metadata": {
        "collapsed": false
      },
      "outputs": [],
      "source": [
        "fig, axs = plt.subplots(1, 2, figsize=(5, 2.7), layout='constrained')\n",
        "xdata = np.arange(len(data1))  # make an ordinal for this\n",
        "data = 10**data1\n",
        "axs[0].plot(xdata, data)\n",
        "\n",
        "axs[1].set_yscale('log')\n",
        "axs[1].plot(xdata, data);"
      ]
    },
    {
      "cell_type": "markdown",
      "metadata": {},
      "source": [
        "### Locación y formato del marcador"
      ]
    },
    {
      "cell_type": "code",
      "execution_count": null,
      "metadata": {
        "collapsed": false
      },
      "outputs": [],
      "source": [
        "fig, axs = plt.subplots(2, 1, layout='constrained')\n",
        "axs[0].plot(xdata, data1)\n",
        "axs[0].set_title('Automatic ticks')\n",
        "\n",
        "axs[1].plot(xdata, data1)\n",
        "axs[1].set_xticks(np.arange(0, 100, 30), ['zero', '30', 'sixty', '90'])\n",
        "axs[1].set_yticks([-1.5, 0, 1.5])  # note that we don't need to specify labels\n",
        "axs[1].set_title('Manual ticks');"
      ]
    },
    {
      "cell_type": "markdown",
      "metadata": {},
      "source": [
        "### Graficar fechas y strings\n"
      ]
    },
    {
      "cell_type": "code",
      "execution_count": null,
      "metadata": {
        "collapsed": false
      },
      "outputs": [],
      "source": [
        "fig, ax = plt.subplots(figsize=(5, 2.7), layout='constrained')\n",
        "dates = np.arange(np.datetime64('2021-11-15'), np.datetime64('2021-12-25'),\n",
        "                  np.timedelta64(1, 'h'))\n",
        "data = np.cumsum(np.random.randn(len(dates)))\n",
        "ax.plot(dates, data)\n",
        "cdf = mpl.dates.ConciseDateFormatter(ax.xaxis.get_major_locator())\n",
        "ax.xaxis.set_major_formatter(cdf);"
      ]
    },
    {
      "cell_type": "code",
      "execution_count": null,
      "metadata": {
        "collapsed": false
      },
      "outputs": [],
      "source": [
        "fig, ax = plt.subplots(figsize=(5, 2.7), layout='constrained')\n",
        "categories = ['turnips', 'rutabaga', 'cucumber', 'pumpkins']\n",
        "\n",
        "ax.bar(categories, np.random.rand(len(categories)));"
      ]
    },
    {
      "cell_type": "markdown",
      "metadata": {},
      "source": [
        "### Objetos adicionales en los ejes"
      ]
    },
    {
      "cell_type": "code",
      "execution_count": null,
      "metadata": {
        "collapsed": false
      },
      "outputs": [],
      "source": [
        "fig, (ax1, ax3) = plt.subplots(1, 2, figsize=(8, 2.7), layout='constrained')\n",
        "l1, = ax1.plot(t, s)\n",
        "ax2 = ax1.twinx()\n",
        "l2, = ax2.plot(t, range(len(t)), 'C1')\n",
        "ax2.legend([l1, l2], ['Sine (left)', 'Straight (right)'])\n",
        "\n",
        "ax3.plot(t, s)\n",
        "ax3.set_xlabel('Angle [°]')\n",
        "ax4 = ax3.secondary_xaxis('top', functions=(np.rad2deg, np.deg2rad))\n",
        "ax4.set_xlabel('Angle [rad]')"
      ]
    },
    {
      "cell_type": "markdown",
      "metadata": {},
      "source": [
        "## Mapa de color"
      ]
    },
    {
      "cell_type": "code",
      "execution_count": null,
      "metadata": {
        "collapsed": false
      },
      "outputs": [],
      "source": [
        "X, Y = np.meshgrid(np.linspace(-3, 3, 128), np.linspace(-3, 3, 128))\n",
        "Z = (1 - X/2 + X**5 + Y**3) * np.exp(-X**2 - Y**2)\n",
        "\n",
        "fig, axs = plt.subplots(2, 2, layout='constrained')\n",
        "pc = axs[0, 0].pcolormesh(X, Y, Z, vmin=-1, vmax=1, cmap='RdBu_r')\n",
        "fig.colorbar(pc, ax=axs[0, 0])\n",
        "axs[0, 0].set_title('pcolormesh()')\n",
        "\n",
        "co = axs[0, 1].contourf(X, Y, Z, levels=np.linspace(-1.25, 1.25, 11))\n",
        "fig.colorbar(co, ax=axs[0, 1])\n",
        "axs[0, 1].set_title('contourf()')\n",
        "\n",
        "pc = axs[1, 0].imshow(Z**2 * 100, cmap='plasma',\n",
        "                          norm=mpl.colors.LogNorm(vmin=0.01, vmax=100))\n",
        "fig.colorbar(pc, ax=axs[1, 0], extend='both')\n",
        "axs[1, 0].set_title('imshow() with LogNorm()')\n",
        "\n",
        "pc = axs[1, 1].scatter(data1, data2, c=data3, cmap='RdBu_r')\n",
        "fig.colorbar(pc, ax=axs[1, 1], extend='both')\n",
        "axs[1, 1].set_title('scatter()');"
      ]
    },
    {
      "cell_type": "markdown",
      "metadata": {},
      "source": [
        "## Trabajando con multiples figuras y ejes"
      ]
    },
    {
      "cell_type": "code",
      "execution_count": null,
      "metadata": {
        "collapsed": false
      },
      "outputs": [],
      "source": [
        "fig, axd = plt.subplot_mosaic([['upleft', 'right'],\n",
        "                               ['lowleft', 'right']], layout='constrained')\n",
        "axd['upleft'].set_title('upleft')\n",
        "axd['lowleft'].set_title('lowleft')\n",
        "axd['right'].set_title('right');"
      ]
    }
  ],
  "metadata": {
    "kernelspec": {
      "display_name": "Python 3",
      "language": "python",
      "name": "python3"
    },
    "language_info": {
      "codemirror_mode": {
        "name": "ipython",
        "version": 3
      },
      "file_extension": ".py",
      "mimetype": "text/x-python",
      "name": "python",
      "nbconvert_exporter": "python",
      "pygments_lexer": "ipython3",
      "version": "3.9.7"
    }
  },
  "nbformat": 4,
  "nbformat_minor": 0
}
