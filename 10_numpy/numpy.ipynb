{
 "cells": [
  {
   "cell_type": "markdown",
   "metadata": {},
   "source": [
    "# Numpy: Vectores y matrices"
   ]
  },
  {
   "cell_type": "markdown",
   "metadata": {},
   "source": [
    "### Importar modulo"
   ]
  },
  {
   "cell_type": "code",
   "execution_count": null,
   "metadata": {},
   "outputs": [],
   "source": [
    "import numpy as np"
   ]
  },
  {
   "cell_type": "markdown",
   "metadata": {},
   "source": [
    "## Comparación entre vector y lista"
   ]
  },
  {
   "cell_type": "code",
   "execution_count": null,
   "metadata": {},
   "outputs": [],
   "source": [
    "lista = [5, 8, 9, 7, 10]\n",
    "vector = np.array([9, 10, 65, 57, 55])\n",
    "print(lista)\n",
    "print(vector)"
   ]
  },
  {
   "cell_type": "code",
   "execution_count": null,
   "metadata": {},
   "outputs": [],
   "source": [
    "# sizes\n",
    "print(len(lista))\n",
    "print(len(vector))  # tamanio de datos\n",
    "print(vector.shape) # dimensiones"
   ]
  },
  {
   "cell_type": "markdown",
   "metadata": {},
   "source": [
    "### Algunos operadores"
   ]
  },
  {
   "cell_type": "code",
   "execution_count": null,
   "metadata": {},
   "outputs": [],
   "source": [
    "a = 5"
   ]
  },
  {
   "cell_type": "code",
   "execution_count": null,
   "metadata": {},
   "outputs": [],
   "source": [
    "# Repetir la lista N veces\n",
    "a * lista"
   ]
  },
  {
   "cell_type": "code",
   "execution_count": null,
   "metadata": {},
   "outputs": [],
   "source": [
    "# scalar * vector = new_vector\n",
    "a * vector"
   ]
  },
  {
   "cell_type": "code",
   "execution_count": null,
   "metadata": {},
   "outputs": [],
   "source": [
    "lista2 = [98, 65, 485, 65, 4]\n",
    "vector2 = np.array(lista2)\n",
    "print(lista2)\n",
    "print(vector2)"
   ]
  },
  {
   "cell_type": "code",
   "execution_count": null,
   "metadata": {},
   "outputs": [],
   "source": [
    "# lista + lista2 = new_lista con tamanio len(lista) + len(lista2)\n",
    "lista + lista2"
   ]
  },
  {
   "cell_type": "code",
   "execution_count": null,
   "metadata": {},
   "outputs": [],
   "source": [
    "# suma de vectores\n",
    "vector + vector2"
   ]
  },
  {
   "cell_type": "code",
   "execution_count": null,
   "metadata": {},
   "outputs": [],
   "source": [
    "# lista * lista2\n",
    "new_list = []\n",
    "for i in range(len(lista)):\n",
    "    new_list.append(lista[i] * lista2[i])\n",
    "new_list"
   ]
  },
  {
   "cell_type": "code",
   "execution_count": null,
   "metadata": {},
   "outputs": [],
   "source": [
    "vector * vector2"
   ]
  },
  {
   "cell_type": "code",
   "execution_count": null,
   "metadata": {},
   "outputs": [],
   "source": [
    "vector - vector2"
   ]
  },
  {
   "cell_type": "code",
   "execution_count": null,
   "metadata": {},
   "outputs": [],
   "source": [
    "vector / 2"
   ]
  },
  {
   "cell_type": "markdown",
   "metadata": {},
   "source": [
    "### $mx + b$"
   ]
  },
  {
   "cell_type": "code",
   "execution_count": null,
   "metadata": {},
   "outputs": [],
   "source": [
    "x = np.arange(-3, 4)\n",
    "resultado = (6 * (x**2)) + 10\n",
    "print(resultado)\n"
   ]
  },
  {
   "cell_type": "code",
   "execution_count": null,
   "metadata": {},
   "outputs": [],
   "source": [
    "import matplotlib.pyplot as plt\n",
    "plt.plot(resultado)\n",
    "plt.show()"
   ]
  },
  {
   "cell_type": "markdown",
   "metadata": {},
   "source": [
    "## Matrices vs Lista de listas"
   ]
  },
  {
   "cell_type": "code",
   "execution_count": null,
   "metadata": {},
   "outputs": [],
   "source": [
    "listaDeLista = [[1, 2], [3, 4]]\n",
    "print(f'Lista de listas: {listaDeLista}')"
   ]
  },
  {
   "cell_type": "code",
   "execution_count": null,
   "metadata": {},
   "outputs": [],
   "source": [
    "matriz = np.array(listaDeLista)\n",
    "print(f'Matriz:\\n{matriz}')"
   ]
  },
  {
   "cell_type": "markdown",
   "metadata": {},
   "source": [
    "Accediendo a un dato"
   ]
  },
  {
   "cell_type": "code",
   "execution_count": null,
   "metadata": {},
   "outputs": [],
   "source": [
    "# Lista\n",
    "'''\n",
    "    Forma larga de acceder\n",
    "    lista2 = listaDeLista[1]\n",
    "    >>> lista2 -> [3, 4]\n",
    "    print(lista2[0])\n",
    "'''\n",
    "print(listaDeLista[1][0])"
   ]
  },
  {
   "cell_type": "code",
   "execution_count": null,
   "metadata": {},
   "outputs": [],
   "source": [
    "# Matriz\n",
    "print(matriz[1][0])\n",
    "print(matriz[1,0])  # Similar a una coordenada\n",
    "print(matriz.shape) # dimensiones"
   ]
  },
  {
   "cell_type": "markdown",
   "metadata": {},
   "source": [
    "### Acceder a varios datos\n",
    "\n",
    "El acceso a varios datos dentro de una lista sencilla, también aplica para acceder a varios datos dentro de un vector"
   ]
  },
  {
   "cell_type": "code",
   "execution_count": null,
   "metadata": {},
   "outputs": [],
   "source": [
    "lista = [1, 2, 5, 3, 5, 46, 3, 48, 21, 58, 456]\n",
    "# lista[from:to-1]\n",
    "cacho_de_lista = lista[4:8]\n",
    "print(cacho_de_lista)"
   ]
  },
  {
   "cell_type": "code",
   "execution_count": null,
   "metadata": {},
   "outputs": [],
   "source": [
    "matrizRandom = np.random.randint(0, 100, (10, 5))\n",
    "print(matrizRandom)\n",
    "# print()\n",
    "# print(np.rot90(matrizRandom.T))"
   ]
  },
  {
   "cell_type": "code",
   "execution_count": null,
   "metadata": {},
   "outputs": [],
   "source": [
    "print(matrizRandom[5])\n",
    "print(matrizRandom[:,1])\n",
    "print(matrizRandom[3:9,1:4])"
   ]
  },
  {
   "cell_type": "markdown",
   "metadata": {},
   "source": [
    "### Algunos operadores"
   ]
  },
  {
   "cell_type": "markdown",
   "metadata": {},
   "source": [
    "#### Escalar"
   ]
  },
  {
   "cell_type": "code",
   "execution_count": null,
   "metadata": {},
   "outputs": [],
   "source": [
    "print(f'{3*matrizRandom}\\n')\n",
    "print(f'{3+matrizRandom}\\n')\n",
    "print(f'{matrizRandom-3}\\n')\n",
    "print(f'{matrizRandom/3}\\n')"
   ]
  },
  {
   "cell_type": "markdown",
   "metadata": {},
   "source": [
    "#### Matriz"
   ]
  },
  {
   "cell_type": "code",
   "execution_count": null,
   "metadata": {},
   "outputs": [],
   "source": [
    "mat = 3+matrizRandom\n",
    "print(matrizRandom + mat)\n",
    "print()\n",
    "print(matrizRandom - (mat*2))\n",
    "print()\n",
    "print(matrizRandom * mat)\n",
    "print()\n",
    "print(matrizRandom / mat)"
   ]
  },
  {
   "cell_type": "code",
   "execution_count": null,
   "metadata": {},
   "outputs": [],
   "source": [
    "mat00 = np.zeros((4,5))\n",
    "print(f'{mat00}\\n')\n",
    "newMat = np.arange(1,10)\n",
    "print(f'{newMat}\\n')\n",
    "newMat.resize((3,3))\n",
    "print(f'{newMat}\\n')"
   ]
  }
 ],
 "metadata": {
  "interpreter": {
   "hash": "40e7727c13113bbe219b74bcfe53f88d437205967406b4e5baf3be637641a0a9"
  },
  "kernelspec": {
   "display_name": "Python 3.9.7 64-bit",
   "language": "python",
   "name": "python3"
  },
  "language_info": {
   "codemirror_mode": {
    "name": "ipython",
    "version": 3
   },
   "file_extension": ".py",
   "mimetype": "text/x-python",
   "name": "python",
   "nbconvert_exporter": "python",
   "pygments_lexer": "ipython3",
   "version": "3.9.7"
  },
  "orig_nbformat": 4
 },
 "nbformat": 4,
 "nbformat_minor": 2
}
